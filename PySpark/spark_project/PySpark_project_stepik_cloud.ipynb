{
  "nbformat": 4,
  "nbformat_minor": 0,
  "metadata": {
    "colab": {
      "name": "PySpark_project_stepik_cloud",
      "provenance": [],
      "collapsed_sections": []
    },
    "kernelspec": {
      "name": "python3",
      "display_name": "Python 3"
    }
  },
  "cells": [
    {
      "cell_type": "markdown",
      "metadata": {
        "id": "tMutHXXaIQl3"
      },
      "source": [
        "Окружение для Colab"
      ]
    },
    {
      "cell_type": "code",
      "metadata": {
        "id": "7ONCe_IkIO25"
      },
      "source": [
        "!apt-get install openjdk-8-jdk-headless -qq > /dev/null\n",
        "!wget -q https://downloads.apache.org/spark/spark-3.1.2/spark-3.1.2-bin-hadoop3.2.tgz\n",
        "!tar xf spark-3.1.2-bin-hadoop3.2.tgz\n",
        "!pip install -q findspark"
      ],
      "execution_count": null,
      "outputs": []
    },
    {
      "cell_type": "markdown",
      "metadata": {
        "id": "iI6F_4LWINSL"
      },
      "source": [
        ""
      ]
    },
    {
      "cell_type": "code",
      "metadata": {
        "id": "hJxUJQz04wEN"
      },
      "source": [
        ""
      ],
      "execution_count": null,
      "outputs": []
    },
    {
      "cell_type": "code",
      "metadata": {
        "id": "m-tTHnP6TsrF"
      },
      "source": [
        "from google.colab import drive\n",
        "drive.mount('/content/drive')"
      ],
      "execution_count": null,
      "outputs": []
    },
    {
      "cell_type": "markdown",
      "metadata": {
        "id": "T6XHfWFeIaBN"
      },
      "source": [
        "Импорт необходимых библиотек\n"
      ]
    },
    {
      "cell_type": "code",
      "metadata": {
        "id": "XwLemIk13_Lj"
      },
      "source": [
        "import sys\n",
        "from pyspark.sql import SparkSession\n",
        "from pyspark.sql.functions import col, datediff\n",
        "from pyspark.sql import functions as F"
      ],
      "execution_count": null,
      "outputs": []
    },
    {
      "cell_type": "code",
      "metadata": {
        "id": "yYU0MCxZV2HA"
      },
      "source": [
        "spark = SparkSession.builder.appName('PySparkTasks').getOrCreate()"
      ],
      "execution_count": null,
      "outputs": []
    },
    {
      "cell_type": "markdown",
      "metadata": {
        "id": "qb6_Q-ZYXQog"
      },
      "source": [
        "Загружаем данные"
      ]
    },
    {
      "cell_type": "code",
      "metadata": {
        "id": "N0W-F5xlXPRL",
        "colab": {
          "base_uri": "https://localhost:8080/",
          "height": 165
        },
        "outputId": "ba800c48-01b6-4713-e92d-4f08d41f4e27"
      },
      "source": [
        "df = spark.read.parquet('/content/drive/My Drive/Data for Collab/PySpark/clickstream.parquet')"
      ],
      "execution_count": null,
      "outputs": [
        {
          "output_type": "error",
          "ename": "NameError",
          "evalue": "ignored",
          "traceback": [
            "\u001b[0;31m---------------------------------------------------------------------------\u001b[0m",
            "\u001b[0;31mNameError\u001b[0m                                 Traceback (most recent call last)",
            "\u001b[0;32m<ipython-input-1-9b61166a92ff>\u001b[0m in \u001b[0;36m<module>\u001b[0;34m()\u001b[0m\n\u001b[0;32m----> 1\u001b[0;31m \u001b[0mdf\u001b[0m \u001b[0;34m=\u001b[0m \u001b[0mspark\u001b[0m\u001b[0;34m.\u001b[0m\u001b[0mread\u001b[0m\u001b[0;34m.\u001b[0m\u001b[0mparquet\u001b[0m\u001b[0;34m(\u001b[0m\u001b[0;34m'/content/drive/My Drive/Data for Collab/PySpark/clickstream.parquet'\u001b[0m\u001b[0;34m)\u001b[0m\u001b[0;34m\u001b[0m\u001b[0;34m\u001b[0m\u001b[0m\n\u001b[0m",
            "\u001b[0;31mNameError\u001b[0m: name 'spark' is not defined"
          ]
        }
      ]
    },
    {
      "cell_type": "code",
      "metadata": {
        "id": "g-wbl_U23V9v"
      },
      "source": [
        "def is_cpc_cpm(df):\n",
        "  '''Добавляем признаки CPC\\CPM.\n",
        "     is_cpm: 1 если тип объявления CPM, иначе 0.\n",
        "     is_cpc: 1 если тип объявления CPC, иначе 0.\n",
        "  '''\n",
        "  df = df.withColumn('is_cpc',F.when(df.ad_cost_type == 'CPC', 1).otherwise(0))\n",
        "  df = df.withColumn('is_cpm',F.when(df.ad_cost_type == 'CPM', 1).otherwise(0))\n",
        "  return df"
      ],
      "execution_count": null,
      "outputs": []
    },
    {
      "cell_type": "code",
      "metadata": {
        "id": "qubtOk1j3eRg"
      },
      "source": [
        "df = is_cpc_cpm(df)"
      ],
      "execution_count": null,
      "outputs": []
    },
    {
      "cell_type": "code",
      "metadata": {
        "colab": {
          "base_uri": "https://localhost:8080/"
        },
        "id": "zf8mAjP16Io8",
        "outputId": "7388b93a-07a6-4ee3-9bb7-3a796409cf75"
      },
      "source": [
        "df.show(2)"
      ],
      "execution_count": null,
      "outputs": [
        {
          "output_type": "stream",
          "name": "stdout",
          "text": [
            "+----------+-------------------+-----+--------+------+---------------+-----------------+------------+-------+---------+---------------------+------+------+\n",
            "|      date|               time|event|platform| ad_id|client_union_id|compaign_union_id|ad_cost_type|ad_cost|has_video|target_audience_count|is_cpc|is_cpm|\n",
            "+----------+-------------------+-----+--------+------+---------------+-----------------+------------+-------+---------+---------------------+------+------+\n",
            "|2019-04-01|2019-03-31 21:00:48| view| android| 45061|          34734|            45061|         CPM|  200.6|        0|              1955269|     0|     1|\n",
            "|2019-04-01|2019-03-31 21:00:48| view|     web|121288|         121288|           121288|         CPM|  187.4|        0|               232011|     0|     1|\n",
            "+----------+-------------------+-----+--------+------+---------------+-----------------+------------+-------+---------+---------------------+------+------+\n",
            "only showing top 2 rows\n",
            "\n"
          ]
        }
      ]
    },
    {
      "cell_type": "code",
      "metadata": {
        "id": "8-RuWUJl4B3z"
      },
      "source": [
        "def ctr_adding(df):\n",
        "  '''Добавление колонки CTR.\n",
        "    CTR равен отношению числа кликов к числу просмотров.\n",
        "  '''\n",
        "  #временно добавим колонки с признаком клика или просмотра\n",
        "  df = df.withColumn('click',F.when(df.event == 'click', 1).otherwise(0))\n",
        "  df = df.withColumn('view',F.when(df.event == 'view', 1).otherwise(0))\n",
        "\n",
        "  #сгруппируем по ad_id, просуммируем клики и просмотры для дальнейшего расчета CTR\n",
        "  gdf = df.groupby('ad_id')\\\n",
        "  .agg({'click':'sum','view':'sum'})\\\n",
        "  .withColumnRenamed('sum(click)','clicks')\\\n",
        "  .withColumnRenamed('sum(view)', 'views')\n",
        "\n",
        "  #рассчитаем ctr\n",
        "  gdf = gdf.withColumn('ctr', F.round(gdf.clicks/gdf.views,3)*100)\n",
        "\n",
        "  #добавим ctr в таблицу\n",
        "  df = df.join(gdf, on='ad_id')\n",
        "\n",
        "  return df"
      ],
      "execution_count": null,
      "outputs": []
    },
    {
      "cell_type": "code",
      "metadata": {
        "id": "gwjaPsrD4qOX"
      },
      "source": [
        "df = ctr_adding(df)"
      ],
      "execution_count": null,
      "outputs": []
    },
    {
      "cell_type": "code",
      "metadata": {
        "colab": {
          "base_uri": "https://localhost:8080/"
        },
        "id": "oUusdin76NcX",
        "outputId": "393ae45a-e75e-40b2-d5d5-65729a0dc452"
      },
      "source": [
        "df.show(2)"
      ],
      "execution_count": null,
      "outputs": [
        {
          "output_type": "stream",
          "name": "stdout",
          "text": [
            "+------+----------+-------------------+-----+--------+---------------+-----------------+------------+-------+---------+---------------------+------+------+-----+----+-----+------+---+\n",
            "| ad_id|      date|               time|event|platform|client_union_id|compaign_union_id|ad_cost_type|ad_cost|has_video|target_audience_count|is_cpc|is_cpm|click|view|views|clicks|ctr|\n",
            "+------+----------+-------------------+-----+--------+---------------+-----------------+------------+-------+---------+---------------------+------+------+-----+----+-----+------+---+\n",
            "| 45061|2019-04-01|2019-03-31 21:00:48| view| android|          34734|            45061|         CPM|  200.6|        0|              1955269|     0|     1|    0|   1|  795|     6|0.8|\n",
            "|121288|2019-04-01|2019-03-31 21:00:48| view|     web|         121288|           121288|         CPM|  187.4|        0|               232011|     0|     1|    0|   1|  583|     0|0.0|\n",
            "+------+----------+-------------------+-----+--------+---------------+-----------------+------------+-------+---------+---------------------+------+------+-----+----+-----+------+---+\n",
            "only showing top 2 rows\n",
            "\n"
          ]
        }
      ]
    },
    {
      "cell_type": "code",
      "metadata": {
        "id": "LkGEo1s042Lu"
      },
      "source": [
        "def day_count_adding(df):\n",
        "  '''Добавляем колонку day_count.\n",
        "    Это число дней, которое показывалась реклама.\n",
        "  '''\n",
        "  #находим разность между текущей датой и датой объявления\n",
        "  df = df.withColumn('day_count', datediff(F.current_date(),df.date))\n",
        "  return df"
      ],
      "execution_count": null,
      "outputs": []
    },
    {
      "cell_type": "code",
      "metadata": {
        "id": "VnVzt4aMxn1g"
      },
      "source": [
        "df = day_count_adding(df)"
      ],
      "execution_count": null,
      "outputs": []
    },
    {
      "cell_type": "code",
      "metadata": {
        "colab": {
          "base_uri": "https://localhost:8080/"
        },
        "id": "vZR6IpDT5_e2",
        "outputId": "b2be94da-d32c-4710-bb1c-e07f873a4bb4"
      },
      "source": [
        "df.show(2)"
      ],
      "execution_count": null,
      "outputs": [
        {
          "output_type": "stream",
          "name": "stdout",
          "text": [
            "+------+----------+-------------------+-----+--------+---------------+-----------------+------------+-------+---------+---------------------+------+------+-----+----+-----+------+---+---------+\n",
            "| ad_id|      date|               time|event|platform|client_union_id|compaign_union_id|ad_cost_type|ad_cost|has_video|target_audience_count|is_cpc|is_cpm|click|view|views|clicks|ctr|day_count|\n",
            "+------+----------+-------------------+-----+--------+---------------+-----------------+------------+-------+---------+---------------------+------+------+-----+----+-----+------+---+---------+\n",
            "| 45061|2019-04-01|2019-03-31 21:00:48| view| android|          34734|            45061|         CPM|  200.6|        0|              1955269|     0|     1|    0|   1|  795|     6|0.8|      969|\n",
            "|121288|2019-04-01|2019-03-31 21:00:48| view|     web|         121288|           121288|         CPM|  187.4|        0|               232011|     0|     1|    0|   1|  583|     0|0.0|      969|\n",
            "+------+----------+-------------------+-----+--------+---------------+-----------------+------------+-------+---------+---------------------+------+------+-----+----+-----+------+---+---------+\n",
            "only showing top 2 rows\n",
            "\n"
          ]
        }
      ]
    },
    {
      "cell_type": "code",
      "metadata": {
        "id": "wTH80y6ogo9Q"
      },
      "source": [
        "def cols_deleting(df):\n",
        "  '''Удаляем ненужные колонки из таблицы'''\n",
        "  cols = ['ad_cost_type','event','client_union_id','platform','click','view','views','clicks', 'time', 'date', 'compaign_union_id']\n",
        "  #выбросим ненужные колонки\n",
        "  df = df.drop(*cols)\n",
        "  return df"
      ],
      "execution_count": null,
      "outputs": []
    },
    {
      "cell_type": "code",
      "metadata": {
        "id": "wbeVoZm76ZPw"
      },
      "source": [
        "df = cols_deleting(df)"
      ],
      "execution_count": null,
      "outputs": []
    },
    {
      "cell_type": "code",
      "metadata": {
        "id": "FWD_XNV5N9j2"
      },
      "source": [
        "def df_splitting(df):\n",
        "  '''Разделяем данные в соотношении 0.75 к 0.25'''\n",
        "  train, test = df.randomSplit([0.75,0.25], 17)\n",
        "  return train, test"
      ],
      "execution_count": null,
      "outputs": []
    },
    {
      "cell_type": "code",
      "metadata": {
        "id": "wnx_jbEQ7CdY"
      },
      "source": [
        "train, test = df_splitting(df)"
      ],
      "execution_count": null,
      "outputs": []
    },
    {
      "cell_type": "code",
      "metadata": {
        "id": "cp5CiVRB0vYr"
      },
      "source": [
        "def writing_to_file(train, test):\n",
        "  '''Записываем наборы данных в отдельные файлы'''\n",
        "  test.coalesce(1).write.parquet('result/test/test.parquet')\n",
        "  train.coalesce(1).write.parquet('result/train/train.parquet')"
      ],
      "execution_count": null,
      "outputs": []
    },
    {
      "cell_type": "code",
      "metadata": {
        "id": "QItgL5CN9HEG"
      },
      "source": [
        "writing_to_file(train, test)"
      ],
      "execution_count": null,
      "outputs": []
    },
    {
      "cell_type": "code",
      "metadata": {
        "id": "NvdUlgQHEdob"
      },
      "source": [
        "#arg=sys.argv[1:] - пропускаем название скрипта\n",
        "#train.coalesce(1).write.parquet('{}/train'.format(arg[1])) - второй элемент в спсике arg - это название конечной папки"
      ],
      "execution_count": null,
      "outputs": []
    },
    {
      "cell_type": "code",
      "metadata": {
        "id": "r75A4IwUEBAi"
      },
      "source": [
        "a='res_1'"
      ],
      "execution_count": null,
      "outputs": []
    },
    {
      "cell_type": "code",
      "metadata": {
        "id": "Qozrija_DZfk"
      },
      "source": [
        "test.coalesce(1).write.parquet('{}/abc'.format('res_2'))"
      ],
      "execution_count": null,
      "outputs": []
    }
  ]
}