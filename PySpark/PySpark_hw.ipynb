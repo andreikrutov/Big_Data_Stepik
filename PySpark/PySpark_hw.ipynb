{
  "nbformat": 4,
  "nbformat_minor": 0,
  "metadata": {
    "colab": {
      "name": "PySpark_hw",
      "provenance": [],
      "collapsed_sections": []
    },
    "kernelspec": {
      "name": "python3",
      "display_name": "Python 3"
    }
  },
  "cells": [
    {
      "cell_type": "code",
      "metadata": {
        "id": "ltj4TU2N4D6S"
      },
      "source": [
        "#CoLab Only\n",
        "!apt-get install openjdk-8-jdk-headless -qq > /dev/null\n",
        "!wget -q https://downloads.apache.org/spark/spark-3.1.2/spark-3.1.2-bin-hadoop3.2.tgz\n",
        "!tar xf spark-3.1.2-bin-hadoop3.2.tgz\n",
        "!pip install -q findspark"
      ],
      "execution_count": 1,
      "outputs": []
    },
    {
      "cell_type": "code",
      "metadata": {
        "id": "hJxUJQz04wEN"
      },
      "source": [
        "#CoLab Only\n",
        "import os\n",
        "os.environ[\"JAVA_HOME\"] = \"/usr/lib/jvm/java-8-openjdk-amd64\"\n",
        "os.environ[\"SPARK_HOME\"] = \"/content/spark-3.1.2-bin-hadoop3.2\"\n",
        "import findspark\n",
        "findspark.init()"
      ],
      "execution_count": 2,
      "outputs": []
    },
    {
      "cell_type": "markdown",
      "metadata": {
        "id": "GE2Yo1KCVfEk"
      },
      "source": [
        "В этой практике мы применим наши знания по PySpark и постараемся изучить что-то новое в процессе выполнения.\n",
        "В занятии используется датасет собранный на основе данных Chicago Taxi Rides 2016  \n",
        "Схема данных:  \n",
        "|-- taxi_id = идентификатор таксиста  \n",
        "|-- trip_start_timestamp = время начала поездки  \n",
        "|-- trip_end_timestamp = время окончания поездки  \n",
        "|-- trip_seconds = время длительности поездки в секундах  \n",
        "|-- trip_miles = мили проиденные во время поездки  \n",
        "|-- fare = транспортные расходы  \n",
        "|-- tips = назначенные чаевые  \n",
        "|-- trip_total = общая стоимость поездки (Итоговая с учетом чаевых и расходов)  \n",
        "|-- payment_type = тип оплаты  "
      ]
    },
    {
      "cell_type": "code",
      "metadata": {
        "id": "6W2BgzciVd8P"
      },
      "source": [
        ""
      ],
      "execution_count": null,
      "outputs": []
    },
    {
      "cell_type": "code",
      "metadata": {
        "colab": {
          "base_uri": "https://localhost:8080/"
        },
        "id": "m-tTHnP6TsrF",
        "outputId": "c7f2a865-34e9-4f10-bbb1-39fcd9e88473"
      },
      "source": [
        "from google.colab import drive\n",
        "drive.mount('/content/drive')"
      ],
      "execution_count": 14,
      "outputs": [
        {
          "output_type": "stream",
          "name": "stdout",
          "text": [
            "Mounted at /content/drive\n"
          ]
        }
      ]
    },
    {
      "cell_type": "code",
      "metadata": {
        "id": "XwLemIk13_Lj"
      },
      "source": [
        "from pyspark.sql import SparkSession\n",
        "from pyspark.sql.functions import col, split, hour"
      ],
      "execution_count": 134,
      "outputs": []
    },
    {
      "cell_type": "code",
      "metadata": {
        "id": "yYU0MCxZV2HA"
      },
      "source": [
        "spark = SparkSession.builder.appName('PySparkTasks').getOrCreate()"
      ],
      "execution_count": null,
      "outputs": []
    },
    {
      "cell_type": "code",
      "metadata": {
        "id": "GeQlGRDIV4Iz"
      },
      "source": [
        "spark.conf.set(\"spark.sql.session.timeZone\", \"GMT+3\")#конфигурируем Спарк, устанавливаем таймзону"
      ],
      "execution_count": null,
      "outputs": []
    },
    {
      "cell_type": "markdown",
      "metadata": {
        "id": "qb6_Q-ZYXQog"
      },
      "source": [
        "Загружаем данные"
      ]
    },
    {
      "cell_type": "code",
      "metadata": {
        "id": "N0W-F5xlXPRL"
      },
      "source": [
        "df = spark.read.parquet('/content/drive/My Drive/Data for Collab/PySpark/taxi_data.parquet')"
      ],
      "execution_count": 15,
      "outputs": []
    },
    {
      "cell_type": "markdown",
      "metadata": {
        "id": "Qw104Aa6YYYE"
      },
      "source": [
        "№1 Посчитайте количество загруженных строк."
      ]
    },
    {
      "cell_type": "code",
      "metadata": {
        "colab": {
          "base_uri": "https://localhost:8080/"
        },
        "id": "KFXA8X91XPTj",
        "outputId": "5393eaa4-eca1-41f7-fbe7-03a620e2a71f"
      },
      "source": [
        "df.count()"
      ],
      "execution_count": 17,
      "outputs": [
        {
          "output_type": "execute_result",
          "data": {
            "text/plain": [
              "2540712"
            ]
          },
          "metadata": {},
          "execution_count": 17
        }
      ]
    },
    {
      "cell_type": "code",
      "metadata": {
        "colab": {
          "base_uri": "https://localhost:8080/"
        },
        "id": "U8AithXzXPV8",
        "outputId": "480f9f24-2ba4-4b0d-b47a-d074098ad923"
      },
      "source": [
        "df.show(5)"
      ],
      "execution_count": 19,
      "outputs": [
        {
          "output_type": "stream",
          "name": "stdout",
          "text": [
            "+-------+--------------------+-------------------+------------+----------+-----+----+----------+------------+\n",
            "|taxi_id|trip_start_timestamp| trip_end_timestamp|trip_seconds|trip_miles| fare|tips|trip_total|payment_type|\n",
            "+-------+--------------------+-------------------+------------+----------+-----+----+----------+------------+\n",
            "|   5240| 2016-12-15 20:45:00|2016-12-15 21:00:00|         900|       2.5|10.75|2.45|      14.7| Credit Card|\n",
            "|   1215| 2016-12-12 04:15:00|2016-12-12 04:15:00|         240|       0.4|  5.0| 3.0|       9.5| Credit Card|\n",
            "|   3673| 2016-12-16 13:30:00|2016-12-16 14:00:00|        2400|      10.7| 31.0| 0.0|      31.0|        Cash|\n",
            "|   5400| 2016-12-16 05:45:00|2016-12-16 06:00:00|         300|       0.0| 5.25| 2.0|      7.25| Credit Card|\n",
            "|   1257| 2016-12-03 15:45:00|2016-12-03 15:45:00|         360|       0.3|  5.0| 0.0|       5.0|        Cash|\n",
            "+-------+--------------------+-------------------+------------+----------+-----+----+----------+------------+\n",
            "only showing top 5 rows\n",
            "\n"
          ]
        }
      ]
    },
    {
      "cell_type": "markdown",
      "metadata": {
        "id": "6gcwHwz5aU-B"
      },
      "source": [
        "№2 Чему равна корреляция и ковариация между длиной маршрута и ценой за поездку? Ответ округлите до 5 знаков после запятой.\n"
      ]
    },
    {
      "cell_type": "code",
      "metadata": {
        "colab": {
          "base_uri": "https://localhost:8080/"
        },
        "id": "W1ogzODTXPZU",
        "outputId": "338abf32-a39b-495a-9121-b66519411a52"
      },
      "source": [
        "corr_=round(df.corr('trip_miles','trip_total'),5)\n",
        "corr_"
      ],
      "execution_count": 23,
      "outputs": [
        {
          "output_type": "execute_result",
          "data": {
            "text/plain": [
              "0.44816"
            ]
          },
          "metadata": {},
          "execution_count": 23
        }
      ]
    },
    {
      "cell_type": "code",
      "metadata": {
        "colab": {
          "base_uri": "https://localhost:8080/"
        },
        "id": "PIXJwQMWXPbk",
        "outputId": "202c8fbe-de57-47ff-8efb-7ce877ebfa16"
      },
      "source": [
        "cov_=round(df.cov('trip_miles','trip_total'),5)\n",
        "cov_"
      ],
      "execution_count": 25,
      "outputs": [
        {
          "output_type": "execute_result",
          "data": {
            "text/plain": [
              "71.96914"
            ]
          },
          "metadata": {},
          "execution_count": 25
        }
      ]
    },
    {
      "cell_type": "markdown",
      "metadata": {
        "id": "uYCaycG9b94-"
      },
      "source": [
        "№3 Найдите количество, среднее, cреднеквадратическое отклонение, минимум и максимум для длины маршрута и цены за поездку? Ответ округлите до 1 знака после запятой."
      ]
    },
    {
      "cell_type": "code",
      "metadata": {
        "colab": {
          "base_uri": "https://localhost:8080/"
        },
        "id": "eoJP91-EXPd6",
        "outputId": "ecbeade7-bb5e-4ec8-c7d5-98ab268c72eb"
      },
      "source": [
        "df[['trip_miles','trip_total']].describe().show()"
      ],
      "execution_count": 29,
      "outputs": [
        {
          "output_type": "stream",
          "name": "stdout",
          "text": [
            "+-------+------------------+------------------+\n",
            "|summary|        trip_miles|        trip_total|\n",
            "+-------+------------------+------------------+\n",
            "|  count|           2540677|           2540672|\n",
            "|   mean|3.0005873828090266|15.913560215564042|\n",
            "| stddev|  5.25716922943536|30.546699217618237|\n",
            "|    min|               0.0|               0.0|\n",
            "|    max|             900.0|           9276.69|\n",
            "+-------+------------------+------------------+\n",
            "\n"
          ]
        }
      ]
    },
    {
      "cell_type": "markdown",
      "metadata": {
        "id": "6TcBmbVidWBx"
      },
      "source": [
        "№4 Найдите самый НЕпопулярный вид оплаты."
      ]
    },
    {
      "cell_type": "code",
      "metadata": {
        "colab": {
          "base_uri": "https://localhost:8080/"
        },
        "id": "0IhGgj-TXPu4",
        "outputId": "69dbcb67-58bb-455d-81de-7298e7c55b81"
      },
      "source": [
        "df.groupby('payment_type')\\\n",
        "  .agg({'trip_miles':'count'})\\\n",
        "  .orderBy('count(trip_miles)')\\\n",
        "  .show()"
      ],
      "execution_count": 39,
      "outputs": [
        {
          "output_type": "stream",
          "name": "stdout",
          "text": [
            "+------------+-----------------+\n",
            "|payment_type|count(trip_miles)|\n",
            "+------------+-----------------+\n",
            "|    Way2ride|                3|\n",
            "|       Pcard|              878|\n",
            "|      Prcard|              968|\n",
            "|     Dispute|             1842|\n",
            "|     Unknown|             5179|\n",
            "|   No Charge|            12843|\n",
            "| Credit Card|          1108842|\n",
            "|        Cash|          1410122|\n",
            "+------------+-----------------+\n",
            "\n"
          ]
        }
      ]
    },
    {
      "cell_type": "markdown",
      "metadata": {
        "id": "Ct3u1KbreyZJ"
      },
      "source": [
        "№5 Найдите идентификатор таксиста выполнившего наибольшее число заказов."
      ]
    },
    {
      "cell_type": "code",
      "metadata": {
        "colab": {
          "base_uri": "https://localhost:8080/"
        },
        "id": "ffe7K6YRXPxr",
        "outputId": "36553326-030c-4f39-991c-087ce4404e41"
      },
      "source": [
        "df.groupby('taxi_id')\\\n",
        "  .agg({'trip_miles':'count'})\\\n",
        "  .orderBy('count(trip_miles)', ascending=False)\\\n",
        "  .show()"
      ],
      "execution_count": 47,
      "outputs": [
        {
          "output_type": "stream",
          "name": "stdout",
          "text": [
            "+-------+-----------------+\n",
            "|taxi_id|count(trip_miles)|\n",
            "+-------+-----------------+\n",
            "|    316|             2225|\n",
            "|   6591|             2083|\n",
            "|   5071|             2080|\n",
            "|   8740|             2067|\n",
            "|   6008|             2033|\n",
            "|   8629|             2024|\n",
            "|   1462|             2007|\n",
            "|    375|             1986|\n",
            "|   8751|             1938|\n",
            "|   5357|             1930|\n",
            "|   8264|             1909|\n",
            "|   1168|             1809|\n",
            "|   1946|             1803|\n",
            "|    336|             1799|\n",
            "|   1521|             1799|\n",
            "|   3253|             1764|\n",
            "|   8561|             1760|\n",
            "|   8344|             1743|\n",
            "|   8496|             1742|\n",
            "|   6482|             1740|\n",
            "+-------+-----------------+\n",
            "only showing top 20 rows\n",
            "\n"
          ]
        }
      ]
    },
    {
      "cell_type": "markdown",
      "metadata": {
        "id": "XPAq6xtQf0d1"
      },
      "source": [
        "№6 Чему равна средняя цена среди поездок, оплаченных наличными? Ответ округлите до 5 знака.\n"
      ]
    },
    {
      "cell_type": "code",
      "metadata": {
        "colab": {
          "base_uri": "https://localhost:8080/"
        },
        "id": "JA1uY3chXP0C",
        "outputId": "71e4fe3b-6f61-4b48-c7f8-4b68577c1ffb"
      },
      "source": [
        "round(df.where(df.payment_type =='Cash')\\\n",
        "  .agg({'trip_total':'avg'}).collect()[0][0],5)"
      ],
      "execution_count": 70,
      "outputs": [
        {
          "output_type": "execute_result",
          "data": {
            "text/plain": [
              "12.03526"
            ]
          },
          "metadata": {},
          "execution_count": 70
        }
      ]
    },
    {
      "cell_type": "markdown",
      "metadata": {
        "id": "wyuzjhSZjOjs"
      },
      "source": [
        "№7 Сколько таксистов проехало больше 1000 миль за все время выполнения заказов?"
      ]
    },
    {
      "cell_type": "code",
      "metadata": {
        "colab": {
          "base_uri": "https://localhost:8080/"
        },
        "id": "piqhGl7RXP2c",
        "outputId": "443e48ad-730b-4777-8fa4-0abcd55a586d"
      },
      "source": [
        "gdf = df.groupby('taxi_id')\\\n",
        "  .agg({'trip_miles':'sum'})\\\n",
        "    .withColumnRenamed(\"sum(trip_miles)\", \"miles\")\n",
        "#gdf.orderBy(gdf.miles>1000).show()\n",
        "gdf.where(gdf.miles>1000).count()"
      ],
      "execution_count": 85,
      "outputs": [
        {
          "output_type": "execute_result",
          "data": {
            "text/plain": [
              "2860"
            ]
          },
          "metadata": {},
          "execution_count": 85
        }
      ]
    },
    {
      "cell_type": "markdown",
      "metadata": {
        "id": "FOI49fajou76"
      },
      "source": [
        "№8 Сколько миль проехал пассажир в самой долгой поездке? (Ответ округлите до целого)"
      ]
    },
    {
      "cell_type": "code",
      "metadata": {
        "colab": {
          "base_uri": "https://localhost:8080/"
        },
        "id": "hVYxJ1xcoxhz",
        "outputId": "2ff3be8d-5cc0-4c53-cbab-1db3289ea539"
      },
      "source": [
        "max_time = df.agg({'trip_seconds':'max'}).collect()[0][0]\n",
        "df.where(df.trip_seconds==max_time).show()"
      ],
      "execution_count": 92,
      "outputs": [
        {
          "output_type": "stream",
          "name": "stdout",
          "text": [
            "+-------+--------------------+-------------------+------------+----------+----+----+----------+------------+\n",
            "|taxi_id|trip_start_timestamp| trip_end_timestamp|trip_seconds|trip_miles|fare|tips|trip_total|payment_type|\n",
            "+-------+--------------------+-------------------+------------+----------+----+----+----------+------------+\n",
            "|   4161| 2016-11-14 13:00:00|2016-11-15 13:00:00|       86399|       0.0|3.25| 0.0|      3.25|        Cash|\n",
            "|   1954| 2016-11-02 21:15:00|2016-11-03 21:15:00|       86399|       0.0|3.25| 0.0|      3.25|        Cash|\n",
            "|   5667| 2016-11-04 18:30:00|2016-11-05 18:30:00|       86399|       0.0|3.25| 0.0|      4.75|        Cash|\n",
            "+-------+--------------------+-------------------+------------+----------+----+----+----------+------------+\n",
            "\n"
          ]
        }
      ]
    },
    {
      "cell_type": "markdown",
      "metadata": {
        "id": "_QvKcFSDusPn"
      },
      "source": [
        "№9 Каков средний заработок всех таксистов? Ответ округлите до 5-ого знака.\n",
        "Отсеките неизвестные машины (не определенный taxi_id)."
      ]
    },
    {
      "cell_type": "code",
      "metadata": {
        "colab": {
          "base_uri": "https://localhost:8080/"
        },
        "id": "hM10kDsPutXK",
        "outputId": "f696ea4e-dc86-4c9d-8035-69f8279daa96"
      },
      "source": [
        "round(df.dropna().agg({'trip_total':'avg'}).collect()[0][0],5)"
      ],
      "execution_count": 98,
      "outputs": [
        {
          "output_type": "execute_result",
          "data": {
            "text/plain": [
              "15.91157"
            ]
          },
          "metadata": {},
          "execution_count": 98
        }
      ]
    },
    {
      "cell_type": "markdown",
      "metadata": {
        "id": "I9-cX3lCvpQr"
      },
      "source": [
        "№10 Сколько поездок начиналось в самый загруженный час?\n",
        "Используйте функцию hour"
      ]
    },
    {
      "cell_type": "code",
      "metadata": {
        "id": "shcwbaKWvsrR"
      },
      "source": [
        "dfh = df.withColumn('hour', hour(col('trip_start_timestamp')))"
      ],
      "execution_count": 139,
      "outputs": []
    },
    {
      "cell_type": "code",
      "metadata": {
        "colab": {
          "base_uri": "https://localhost:8080/"
        },
        "id": "3dnAPbYA8bCN",
        "outputId": "012c8d48-b0a2-4e1c-a129-1d5a64d4ef7a"
      },
      "source": [
        "dfh.groupby('hour').agg({'fare':'count'}).orderBy('count(fare)', ascending=False).show(1)"
      ],
      "execution_count": 143,
      "outputs": [
        {
          "output_type": "stream",
          "name": "stdout",
          "text": [
            "+----+-----------+\n",
            "|hour|count(fare)|\n",
            "+----+-----------+\n",
            "|  15|     181124|\n",
            "+----+-----------+\n",
            "only showing top 1 row\n",
            "\n"
          ]
        }
      ]
    },
    {
      "cell_type": "markdown",
      "metadata": {
        "id": "LrmdmWL2wo8D"
      },
      "source": [
        "№12 Найдите топ три даты, в которые было суммарно больше всего чаевых? (Чаевые выдаются после совершения поездки)\n",
        "Ожидаемый формат дат YYYY-MM-DD"
      ]
    },
    {
      "cell_type": "code",
      "metadata": {
        "id": "wWvdGpjOwp-9"
      },
      "source": [
        "from pyspark.sql.types import DateType"
      ],
      "execution_count": 99,
      "outputs": []
    },
    {
      "cell_type": "code",
      "metadata": {
        "colab": {
          "base_uri": "https://localhost:8080/"
        },
        "id": "azwpaOehxziK",
        "outputId": "91d9c9a7-8789-4523-e3b9-e9ce8ce6f15b"
      },
      "source": [
        "df.dtypes"
      ],
      "execution_count": 100,
      "outputs": [
        {
          "output_type": "execute_result",
          "data": {
            "text/plain": [
              "[('taxi_id', 'int'),\n",
              " ('trip_start_timestamp', 'timestamp'),\n",
              " ('trip_end_timestamp', 'timestamp'),\n",
              " ('trip_seconds', 'int'),\n",
              " ('trip_miles', 'double'),\n",
              " ('fare', 'double'),\n",
              " ('tips', 'double'),\n",
              " ('trip_total', 'double'),\n",
              " ('payment_type', 'string')]"
            ]
          },
          "metadata": {},
          "execution_count": 100
        }
      ]
    },
    {
      "cell_type": "code",
      "metadata": {
        "colab": {
          "base_uri": "https://localhost:8080/"
        },
        "id": "YOKTZ6cQyPOA",
        "outputId": "633644b3-94e4-4119-f04e-1d266abdf472"
      },
      "source": [
        "df.show(2)"
      ],
      "execution_count": 102,
      "outputs": [
        {
          "output_type": "stream",
          "name": "stdout",
          "text": [
            "+-------+--------------------+-------------------+------------+----------+-----+----+----------+------------+\n",
            "|taxi_id|trip_start_timestamp| trip_end_timestamp|trip_seconds|trip_miles| fare|tips|trip_total|payment_type|\n",
            "+-------+--------------------+-------------------+------------+----------+-----+----+----------+------------+\n",
            "|   5240| 2016-12-15 20:45:00|2016-12-15 21:00:00|         900|       2.5|10.75|2.45|      14.7| Credit Card|\n",
            "|   1215| 2016-12-12 04:15:00|2016-12-12 04:15:00|         240|       0.4|  5.0| 3.0|       9.5| Credit Card|\n",
            "+-------+--------------------+-------------------+------------+----------+-----+----+----------+------------+\n",
            "only showing top 2 rows\n",
            "\n"
          ]
        }
      ]
    },
    {
      "cell_type": "code",
      "metadata": {
        "colab": {
          "base_uri": "https://localhost:8080/"
        },
        "id": "9ei7bVfLyVdf",
        "outputId": "ef5f7904-b7c8-410d-a172-ed49cd477c3c"
      },
      "source": [
        "df.withColumn('trip_end_timestamp',df.trip_end_timestamp.cast(DateType()))\\\n",
        "  .groupby('trip_end_timestamp')\\\n",
        "  .agg({'tips':'sum'})\\\n",
        "  .orderBy('sum(tips)', ascending=False)\\\n",
        "  .show(3)"
      ],
      "execution_count": 113,
      "outputs": [
        {
          "output_type": "stream",
          "name": "stdout",
          "text": [
            "+------------------+------------------+\n",
            "|trip_end_timestamp|         sum(tips)|\n",
            "+------------------+------------------+\n",
            "|        2016-11-09|106671.48999999987|\n",
            "|        2016-11-03|101606.06000000023|\n",
            "|        2016-11-16|100606.96000000041|\n",
            "+------------------+------------------+\n",
            "only showing top 3 rows\n",
            "\n"
          ]
        }
      ]
    },
    {
      "cell_type": "markdown",
      "metadata": {
        "id": "jQC8CF9E0I6S"
      },
      "source": [
        "№13 Сколько было заказов в дату с наибольшим спросом?"
      ]
    },
    {
      "cell_type": "code",
      "metadata": {
        "colab": {
          "base_uri": "https://localhost:8080/"
        },
        "id": "8rhF8Gft0J1t",
        "outputId": "5f1c56f0-c330-4697-e6ae-96e00cab7ab3"
      },
      "source": [
        "cdf = df.withColumn('trip_start_timestamp',df.trip_start_timestamp.cast(DateType()))\n",
        "cdf.groupby('trip_start_timestamp').agg({'fare':'count'}).orderBy('count(fare)', ascending=False).show(1)"
      ],
      "execution_count": 117,
      "outputs": [
        {
          "output_type": "stream",
          "name": "stdout",
          "text": [
            "+--------------------+-----------+\n",
            "|trip_start_timestamp|count(fare)|\n",
            "+--------------------+-----------+\n",
            "|          2016-12-16|      62184|\n",
            "+--------------------+-----------+\n",
            "only showing top 1 row\n",
            "\n"
          ]
        }
      ]
    },
    {
      "cell_type": "markdown",
      "metadata": {
        "id": "D6wBiGpY1egO"
      },
      "source": [
        "№14 Какая марка машины самая распрастранненая среди таксистов?"
      ]
    },
    {
      "cell_type": "code",
      "metadata": {
        "id": "W3D3eNFw1Hiw"
      },
      "source": [
        "df_cars = spark.read.parquet('/content/drive/My Drive/Data for Collab/PySpark/taxi_cars_data.parquet')"
      ],
      "execution_count": 118,
      "outputs": []
    },
    {
      "cell_type": "code",
      "metadata": {
        "colab": {
          "base_uri": "https://localhost:8080/"
        },
        "id": "pThbahfb2Hrr",
        "outputId": "28e81b40-2607-489c-8ec1-15d4cfe4c204"
      },
      "source": [
        "df_cars.show(2)"
      ],
      "execution_count": 120,
      "outputs": [
        {
          "output_type": "stream",
          "name": "stdout",
          "text": [
            "+-------+-------------------+\n",
            "|taxi_id|          car_model|\n",
            "+-------+-------------------+\n",
            "|   1159|       Toyota Prius|\n",
            "|   7273|Ford Crown Victoria|\n",
            "+-------+-------------------+\n",
            "only showing top 2 rows\n",
            "\n"
          ]
        }
      ]
    },
    {
      "cell_type": "code",
      "metadata": {
        "colab": {
          "base_uri": "https://localhost:8080/"
        },
        "id": "TrzFDRSx2P05",
        "outputId": "2e117072-2db2-4ea5-cd26-125fda1ec9e0"
      },
      "source": [
        "df_cars_new = df_cars.withColumn('mark_auto', split(col('car_model'),' ')[0])\n",
        "df_cars_new.groupby('mark_auto').agg({'taxi_id':'count'}).orderBy('count(taxi_id)', ascending=False).show()"
      ],
      "execution_count": 127,
      "outputs": [
        {
          "output_type": "stream",
          "name": "stdout",
          "text": [
            "+----------+--------------+\n",
            "| mark_auto|count(taxi_id)|\n",
            "+----------+--------------+\n",
            "|      Ford|          1483|\n",
            "|   Hyundai|           792|\n",
            "|    Toyota|           691|\n",
            "| Chevrolet|           473|\n",
            "|       Kia|           265|\n",
            "|      Audi|           250|\n",
            "|   Lincoln|           247|\n",
            "|     Honda|           246|\n",
            "|Volkswagen|           244|\n",
            "|    Nissan|           225|\n",
            "+----------+--------------+\n",
            "\n"
          ]
        }
      ]
    },
    {
      "cell_type": "markdown",
      "metadata": {
        "id": "C3jodyEz4UUf"
      },
      "source": [
        "№15 Сколько раз и какая модель машин чаще всего встречается в поездках?"
      ]
    },
    {
      "cell_type": "code",
      "metadata": {
        "id": "x9esaIgk4f6K"
      },
      "source": [
        "jdf = df.join(df_cars, on='taxi_id')"
      ],
      "execution_count": 128,
      "outputs": []
    },
    {
      "cell_type": "code",
      "metadata": {
        "colab": {
          "base_uri": "https://localhost:8080/"
        },
        "id": "FxVbxTDY4pM2",
        "outputId": "c2456158-8994-4120-b5fb-c14012f181e7"
      },
      "source": [
        "jdf.groupby('car_model').agg({'taxi_id':'count'}).orderBy('count(taxi_id)', ascending=False).show(2)"
      ],
      "execution_count": 132,
      "outputs": [
        {
          "output_type": "stream",
          "name": "stdout",
          "text": [
            "+-------------------+--------------+\n",
            "|          car_model|count(taxi_id)|\n",
            "+-------------------+--------------+\n",
            "|Ford Crown Victoria|        388682|\n",
            "|     Hyundai Accent|        150764|\n",
            "+-------------------+--------------+\n",
            "only showing top 2 rows\n",
            "\n"
          ]
        }
      ]
    },
    {
      "cell_type": "markdown",
      "metadata": {
        "id": "vd9vdPYI6Fjy"
      },
      "source": [
        "Почувствуй силу сжатия! сохрани DataFrame в csv и сравни размеры файлов."
      ]
    },
    {
      "cell_type": "code",
      "metadata": {
        "id": "Cq_mRvz86GSU"
      },
      "source": [
        "df.coalesce(1).write.csv('taxi_L_csv')"
      ],
      "execution_count": 133,
      "outputs": []
    }
  ]
}