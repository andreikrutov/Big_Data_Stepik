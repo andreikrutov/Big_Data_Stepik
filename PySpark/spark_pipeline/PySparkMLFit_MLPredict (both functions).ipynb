{
 "cells": [
  {
   "cell_type": "code",
   "execution_count": 2,
   "id": "3d0b6f4f",
   "metadata": {},
   "outputs": [],
   "source": [
    "import sys\n",
    "from pyspark.sql import SparkSession\n",
    "\n",
    "from pyspark.ml import Pipeline\n",
    "from pyspark.ml.feature import VectorAssembler\n",
    "from pyspark.ml.regression import DecisionTreeRegressor\n",
    "from pyspark.ml.regression import RandomForestRegressor\n",
    "from pyspark.ml.regression import GBTRegressor\n",
    "from pyspark.ml.evaluation import RegressionEvaluator\n",
    "from pyspark.ml.pipeline import PipelineModel\n",
    "from pyspark.ml.tuning import TrainValidationSplitModel\n",
    "\n",
    "from pyspark.ml.feature import HashingTF, Tokenizer\n",
    "\n",
    "from pyspark.ml.tuning import ParamGridBuilder, TrainValidationSplit\n",
    "\n",
    "import warnings\n",
    "warnings.filterwarnings(\"ignore\")"
   ]
  },
  {
   "cell_type": "code",
   "execution_count": 3,
   "id": "6c88addb",
   "metadata": {},
   "outputs": [
    {
     "name": "stderr",
     "output_type": "stream",
     "text": [
      "21/12/12 23:10:26 WARN Utils: Your hostname, andrei-TH67 resolves to a loopback address: 127.0.1.1; using 192.168.0.102 instead (on interface enp2s0)\n",
      "21/12/12 23:10:26 WARN Utils: Set SPARK_LOCAL_IP if you need to bind to another address\n",
      "21/12/12 23:10:26 WARN NativeCodeLoader: Unable to load native-hadoop library for your platform... using builtin-java classes where applicable\n",
      "Using Spark's default log4j profile: org/apache/spark/log4j-defaults.properties\n",
      "Setting default log level to \"WARN\".\n",
      "To adjust logging level use sc.setLogLevel(newLevel). For SparkR, use setLogLevel(newLevel).\n"
     ]
    }
   ],
   "source": [
    "spark = SparkSession.builder.appName('PySparkTasks').getOrCreate()"
   ]
  },
  {
   "cell_type": "code",
   "execution_count": 13,
   "id": "a76fa8e4",
   "metadata": {},
   "outputs": [],
   "source": [
    "input_train = '/home/andrei/data_engineer/Big_Data_Stepik/PySpark/spark_pipeline/train.parquet'\n",
    "input_test='/home/andrei/data_engineer/Big_Data_Stepik/PySpark/spark_pipeline/test.parquet'"
   ]
  },
  {
   "cell_type": "code",
   "execution_count": 14,
   "id": "1aa0e7f0",
   "metadata": {},
   "outputs": [],
   "source": [
    "def process(input_train, input_test):\n",
    "    \"\"\"\n",
    "    Функция принимает на вход путь к фалам train и test. Обучает три модели\n",
    "    DecisionTreeRegressor, RandomForestRegression и GBTRegressor.\n",
    "    Выбирает модель с наименьшим RMSE и сохраняет ее в папку 'spark_ml_model'\n",
    "    \"\"\"\n",
    "    \n",
    "    df_train = spark.read.parquet(input_train)\n",
    "    df_test = spark.read.parquet(input_test)\n",
    "    \n",
    "    feature_train = VectorAssembler(inputCols=df_train.columns[:-1], outputCol='features')\n",
    "    feature_vector_tr = feature_train.transform(df_train)\n",
    "    \n",
    "    feature_test = VectorAssembler(inputCols=df_test.columns[:-1], outputCol='features')\n",
    "    feature_vector_tt = feature_test.transform(df_test)\n",
    "    \n",
    "    #DecisionTree\n",
    "    dtr = DecisionTreeRegressor(labelCol='ctr', featuresCol='features', predictionCol='prediction')\n",
    "    \n",
    "    paramGrid_dtr = ParamGridBuilder()\\\n",
    "    .addGrid(dtr.maxDepth, [2,3,4,5])\\\n",
    "    .build()\n",
    "    \n",
    "    evaluator_dtr = RegressionEvaluator(metricName='rmse',\n",
    "                                labelCol='ctr', \n",
    "                                predictionCol='prediction')\n",
    "    \n",
    "    tvs_dtr = TrainValidationSplit(estimator=dtr,\n",
    "                           estimatorParamMaps=paramGrid_dtr,\n",
    "                           evaluator= evaluator_dtr,\n",
    "                           trainRatio=0.8)\n",
    "    \n",
    "    model_dtr = tvs_dtr.fit(feature_vector_tr)\n",
    "    predictions_dtr = model_dtr.transform(feature_vector_tt)\n",
    "    rmse_dtr = evaluator_dtr.evaluate(predictions_dtr)\n",
    "    \n",
    "    #RandomForest\n",
    "    rfr = RandomForestRegressor(labelCol='ctr', featuresCol='features', predictionCol='prediction')\n",
    "    \n",
    "    paramGrid_rfr = ParamGridBuilder()\\\n",
    "    .addGrid(rfr.maxDepth, [2,3,4,5])\\\n",
    "    .addGrid(rfr.numTrees, [3, 6, 9, 12, 15, 18, 21])\\\n",
    "    .build()\n",
    "    \n",
    "    evaluator_rfr = RegressionEvaluator(metricName='rmse',\n",
    "                                labelCol='ctr', \n",
    "                                predictionCol='prediction')\n",
    "    \n",
    "    tvs_rfr = TrainValidationSplit(estimator=rfr,\n",
    "                           estimatorParamMaps=paramGrid_rfr,\n",
    "                           evaluator= evaluator_rfr,\n",
    "                           trainRatio=0.8)\n",
    "    \n",
    "    model_rfr = tvs_rfr.fit(feature_vector_tr)\n",
    "    predictions_rfr = model_rfr.transform(feature_vector_tt)\n",
    "    rmse_rfr = evaluator_rfr.evaluate(predictions_rfr)\n",
    "    \n",
    "    #GBTRegressor\n",
    "    gbtr = GBTRegressor(labelCol='ctr', featuresCol='features', predictionCol='prediction')\n",
    "    \n",
    "    paramGrid_gbtr = ParamGridBuilder()\\\n",
    "    .addGrid(gbtr.maxDepth, [2,3,4,5])\\\n",
    "    .build()\n",
    "    \n",
    "    evaluator_gbtr = RegressionEvaluator(metricName='rmse',\n",
    "                                labelCol='ctr', \n",
    "                                predictionCol='prediction')\n",
    "    \n",
    "    tvs_gbtr = TrainValidationSplit(estimator=gbtr,\n",
    "                           estimatorParamMaps=paramGrid_gbtr,\n",
    "                           evaluator= evaluator_gbtr,\n",
    "                           trainRatio=0.8)\n",
    "    \n",
    "    model_gbtr = tvs_gbtr.fit(feature_vector_tr)\n",
    "    predictions_gbtr = model_gbtr.transform(feature_vector_tt)\n",
    "    rmse_gbtr = evaluator_gbtr.evaluate(predictions_gbtr)\n",
    "    \n",
    "    \n",
    "    \n",
    "    if (rmse_dtr<rmse_rfr) and (rmse_dtr<rmse_gbtr):\n",
    "        rmse = rmse_dtr\n",
    "        model_name = 'DecisionTreeRegressor'\n",
    "        model = model_dtr\n",
    "    elif (rmse_rfr<rmse_dtr) and (rmse_rfr<rmse_gbtr):\n",
    "        rmse = rmse_rfr\n",
    "        model_name = 'RandomForestRegressor'\n",
    "        model = model_rfr\n",
    "    elif (rmse_gbtr<rmse_dtr) and (rmse_gbtr<rmse_rfr):\n",
    "        rmse = rmse_gbtr\n",
    "        model_name = 'GBTRegressor'\n",
    "        model = model_gbtr\n",
    "    \n",
    "    model.save('spark_ml_model')\n",
    "    \n",
    "    \n",
    "    return print('RMSE = {}'.format(rmse))\n",
    "        "
   ]
  },
  {
   "cell_type": "code",
   "execution_count": null,
   "id": "3582ca10",
   "metadata": {},
   "outputs": [],
   "source": []
  },
  {
   "cell_type": "code",
   "execution_count": 15,
   "id": "2bf21223",
   "metadata": {},
   "outputs": [
    {
     "name": "stderr",
     "output_type": "stream",
     "text": [
      "                                                                                \r"
     ]
    },
    {
     "name": "stdout",
     "output_type": "stream",
     "text": [
      "RMSE = 0.0789683491183892\n"
     ]
    }
   ],
   "source": [
    "process(input_train, input_test)"
   ]
  },
  {
   "cell_type": "code",
   "execution_count": null,
   "id": "c9654e0b",
   "metadata": {},
   "outputs": [],
   "source": []
  },
  {
   "cell_type": "code",
   "execution_count": 53,
   "id": "53a05d3f",
   "metadata": {},
   "outputs": [],
   "source": [
    "def process_1(input_path, result_path):\n",
    "    '''\n",
    "    Функция принимает на вход путь до test файла и путь к файлу, в коорый записывает результат.\n",
    "    Она загружает модель из 'spark_ml_model' и при попмощи нее делает предсказания по данным test.\n",
    "    '''\n",
    "    df = spark.read.parquet(input_path)\n",
    "    feature = VectorAssembler(inputCols=df.columns[:-1], outputCol='features')\n",
    "    feature_vector = feature.transform(df)\n",
    "    \n",
    "    model = TrainValidationSplitModel.load('spark_ml_model')\n",
    "    \n",
    "    predictions = model.transform(feature_vector)\n",
    "    predictions = predictions.select('ad_id','prediction')\n",
    "    predictions.coalesce(1).write.csv(result_path)"
   ]
  },
  {
   "cell_type": "code",
   "execution_count": null,
   "id": "c8deeb34",
   "metadata": {},
   "outputs": [],
   "source": []
  },
  {
   "cell_type": "markdown",
   "id": "e1284d2b",
   "metadata": {},
   "source": [
    "### Перепишем через pipeline"
   ]
  },
  {
   "cell_type": "code",
   "execution_count": 16,
   "id": "aa121aa0",
   "metadata": {},
   "outputs": [],
   "source": [
    "def process(train_data, test_data):\n",
    "    '''\n",
    "    Функция принимает на вход путь до файлов train и test. Обучает три модели, рассчитвает RMSE,\n",
    "    выбирает модель с наименьшей метрикой и сохраняет выбранную модель в файл.\n",
    "    '''\n",
    "    \n",
    "    df_train = spark.read.parquet(input_train)\n",
    "    df_test = spark.read.parquet(input_test)\n",
    "    \n",
    "    stage_1 = VectorAssembler(inputCols=df_train.columns[1:-1], outputCol='features')#исключам ad_id\n",
    "    \n",
    "    #DecisionTreeRegression\n",
    "    dtr = DecisionTreeRegressor(labelCol='ctr', featuresCol='features', predictionCol='prediction')   \n",
    "    paramGrid_dtr = ParamGridBuilder()\\\n",
    "    .addGrid(dtr.maxDepth, [2,3,4,5])\\\n",
    "    .build()\n",
    "    evaluator_dtr = RegressionEvaluator(metricName='rmse',\n",
    "                                labelCol='ctr', \n",
    "                                predictionCol='prediction')\n",
    "    tvs_dtr = TrainValidationSplit(estimator=dtr,\n",
    "                           estimatorParamMaps=paramGrid_dtr,\n",
    "                           evaluator= evaluator_dtr,\n",
    "                           trainRatio=0.8)\n",
    "    stage_2_dtr = TrainValidationSplit(estimator=dtr,\n",
    "                           estimatorParamMaps=paramGrid_dtr,\n",
    "                           evaluator= evaluator_dtr,\n",
    "                           trainRatio=0.8)\n",
    "    pipeline_dtr = Pipeline(stages=[stage_1, stage_2_dtr])\n",
    "    model_dtr = pipeline_dtr.fit(df_train)\n",
    "    predictions_dtr = model_dtr.transform(df_test)\n",
    "    rmse_dtr = evaluator_dtr.evaluate(predictions_dtr)\n",
    "    \n",
    "    #RandomForestRegressor\n",
    "    rfr = RandomForestRegressor(labelCol='ctr', featuresCol='features', predictionCol='prediction')   \n",
    "    paramGrid_rfr = ParamGridBuilder()\\\n",
    "    .addGrid(rfr.maxDepth, [2,3,4,5])\\\n",
    "    .build()\n",
    "    evaluator_rfr = RegressionEvaluator(metricName='rmse',\n",
    "                                labelCol='ctr', \n",
    "                                predictionCol='prediction')\n",
    "    tvs_rfr = TrainValidationSplit(estimator=rfr,\n",
    "                           estimatorParamMaps=paramGrid_rfr,\n",
    "                           evaluator= evaluator_rfr,\n",
    "                           trainRatio=0.8)\n",
    "    stage_2_rfr = TrainValidationSplit(estimator=rfr,\n",
    "                           estimatorParamMaps=paramGrid_rfr,\n",
    "                           evaluator= evaluator_rfr,\n",
    "                           trainRatio=0.8)\n",
    "    pipeline_rfr = Pipeline(stages=[stage_1, stage_2_rfr])\n",
    "    model_rfr = pipeline_rfr.fit(df_train)\n",
    "    predictions_rfr = model_rfr.transform(df_test)\n",
    "    rmse_rfr = evaluator_rfr.evaluate(predictions_rfr)\n",
    "    \n",
    "    #GBTRegressor\n",
    "    gbtr = GBTRegressor(labelCol='ctr', featuresCol='features', predictionCol='prediction')   \n",
    "    paramGrid_gbtr = ParamGridBuilder()\\\n",
    "    .addGrid(gbtr.maxDepth, [2,3,4,5])\\\n",
    "    .build()\n",
    "    evaluator_gbtr = RegressionEvaluator(metricName='rmse',\n",
    "                                labelCol='ctr', \n",
    "                                predictionCol='prediction')\n",
    "    tvs_gbtr = TrainValidationSplit(estimator=gbtr,\n",
    "                           estimatorParamMaps=paramGrid_gbtr,\n",
    "                           evaluator= evaluator_gbtr,\n",
    "                           trainRatio=0.8)\n",
    "    stage_2_gbtr = TrainValidationSplit(estimator=gbtr,\n",
    "                           estimatorParamMaps=paramGrid_gbtr,\n",
    "                           evaluator= evaluator_gbtr,\n",
    "                           trainRatio=0.8)\n",
    "    pipeline_gbtr = Pipeline(stages=[stage_1, stage_2_gbtr])\n",
    "    model_gbtr = pipeline_gbtr.fit(df_train)\n",
    "    predictions_gbtr = model_gbtr.transform(df_test)\n",
    "    rmse_gbtr = evaluator_gbtr.evaluate(predictions_gbtr)\n",
    "    \n",
    "    if (rmse_dtr<rmse_rfr) and (rmse_dtr<rmse_gbtr):\n",
    "        rmse = rmse_dtr\n",
    "        #model_name = 'DecisionTreeRegressor'\n",
    "        model = model_dtr\n",
    "    elif (rmse_rfr<rmse_dtr) and (rmse_rfr<rmse_gbtr):\n",
    "        rmse = rmse_rfr\n",
    "        #model_name = 'RandomForestRegressor'\n",
    "        model = model_rfr\n",
    "    elif (rmse_gbtr<rmse_dtr) and (rmse_gbtr<rmse_rfr):\n",
    "        rmse = rmse_gbtr\n",
    "        #model_name = 'GBTRegressor'\n",
    "        model = model_gbtr\n",
    "    \n",
    "    model.save('spark_ml_model_1')\n",
    "    \n",
    "    \n",
    "    return print('RMSE = {}'.format(rmse))"
   ]
  },
  {
   "cell_type": "code",
   "execution_count": 17,
   "id": "6ee26a8a",
   "metadata": {},
   "outputs": [],
   "source": [
    "input_train = '/home/andrei/data_engineer/Big_Data_Stepik/PySpark/spark_pipeline/train.parquet'\n",
    "input_test='/home/andrei/data_engineer/Big_Data_Stepik/PySpark/spark_pipeline/test.parquet'"
   ]
  },
  {
   "cell_type": "code",
   "execution_count": 18,
   "id": "d5f2677c",
   "metadata": {},
   "outputs": [
    {
     "name": "stderr",
     "output_type": "stream",
     "text": [
      "                                                                                \r"
     ]
    },
    {
     "name": "stdout",
     "output_type": "stream",
     "text": [
      "RMSE = 0.25641402586252304\n"
     ]
    }
   ],
   "source": [
    "process(input_train, input_test)"
   ]
  },
  {
   "cell_type": "code",
   "execution_count": null,
   "id": "62acb4b6",
   "metadata": {},
   "outputs": [],
   "source": []
  },
  {
   "cell_type": "code",
   "execution_count": 22,
   "id": "fdcbdc4c",
   "metadata": {},
   "outputs": [],
   "source": [
    "def process_1(input_path, result_path):\n",
    "    '''\n",
    "    Функция принимает на вход путь до test файла и путь к файлу, в коорый записывает результат.\n",
    "    Она загружает модель из 'spark_ml_model' и при попмощи нее делает предсказания по данным test.\n",
    "    '''\n",
    "    df = spark.read.parquet(input_path)\n",
    "       \n",
    "    model = PipelineModel.load('spark_ml_model_1')\n",
    "    \n",
    "    predictions = model.transform(df)\n",
    "    predictions = predictions.select('ad_id','prediction')\n",
    "    predictions.coalesce(1).write.csv(result_path)"
   ]
  },
  {
   "cell_type": "code",
   "execution_count": 23,
   "id": "6f23a051",
   "metadata": {},
   "outputs": [],
   "source": [
    "input_path='/home/andrei/data_engineer/Big_Data_Stepik/PySpark/spark_pipeline/test.parquet'\n",
    "result_path='/home/andrei/data_engineer/Big_Data_Stepik/PySpark/spark_pipeline/result_p'"
   ]
  },
  {
   "cell_type": "code",
   "execution_count": 24,
   "id": "4e87ad7e",
   "metadata": {},
   "outputs": [
    {
     "name": "stderr",
     "output_type": "stream",
     "text": [
      "                                                                                \r"
     ]
    }
   ],
   "source": [
    "process_1(input_path, result_path)"
   ]
  }
 ],
 "metadata": {
  "kernelspec": {
   "display_name": "Python 3 (ipykernel)",
   "language": "python",
   "name": "python3"
  },
  "language_info": {
   "codemirror_mode": {
    "name": "ipython",
    "version": 3
   },
   "file_extension": ".py",
   "mimetype": "text/x-python",
   "name": "python",
   "nbconvert_exporter": "python",
   "pygments_lexer": "ipython3",
   "version": "3.9.7"
  }
 },
 "nbformat": 4,
 "nbformat_minor": 5
}
