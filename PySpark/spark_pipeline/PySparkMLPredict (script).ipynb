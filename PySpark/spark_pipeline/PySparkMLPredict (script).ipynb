{
 "cells": [
  {
   "cell_type": "code",
   "execution_count": null,
   "id": "396e253e",
   "metadata": {},
   "outputs": [],
   "source": [
    "import sys\n",
    "from pyspark.sql import SparkSession\n",
    "\n",
    "from pyspark.ml import Pipeline\n",
    "from pyspark.ml.feature import VectorAssembler\n",
    "from pyspark.ml.regression import DecisionTreeRegressor\n",
    "from pyspark.ml.regression import RandomForestRegressor\n",
    "from pyspark.ml.regression import GBTRegressor\n",
    "from pyspark.ml.evaluation import RegressionEvaluator\n",
    "from pyspark.ml.pipeline import PipelineModel\n",
    "from pyspark.ml.tuning import TrainValidationSplitModel\n",
    "\n",
    "from pyspark.ml.tuning import ParamGridBuilder, TrainValidationSplit\n",
    "\n",
    "# Используйте как путь откуда загрузить модель\n",
    "MODEL_PATH = 'spark_ml_model'\n",
    "\n",
    "\n",
    "def process(spark, input_file, output_file):\n",
    "        '''\n",
    "    Функция принимает на вход путь до test файла и путь к файлу, в коорый записывает результат.\n",
    "    Она загружает модель из 'spark_ml_model' и при попмощи нее делает предсказания по данным test.\n",
    "    '''\n",
    "    df = spark.read.parquet(input_file)\n",
    "    feature = VectorAssembler(inputCols=df.columns[:-1], outputCol='features')\n",
    "    feature_vector = feature.transform(df)\n",
    "    \n",
    "    model = TrainValidationSplitModel.load('spark_ml_model')\n",
    "    \n",
    "    predictions = model.transform(feature_vector)\n",
    "    predictions = predictions.select('ad_id','prediction')\n",
    "    predictions.coalesce(1).write.csv(output_file)\n",
    "\n",
    "\n",
    "def main(argv):\n",
    "    input_path = argv[0]\n",
    "    print(\"Input path to file: \" + input_path)\n",
    "    output_file = argv[1]\n",
    "    print(\"Output path to file: \" + output_file)\n",
    "    spark = _spark_session()\n",
    "    process(spark, input_path, output_file)\n",
    "\n",
    "\n",
    "def _spark_session():\n",
    "    return SparkSession.builder.appName('PySparkMLPredict').getOrCreate()\n",
    "\n",
    "\n",
    "if __name__ == \"__main__\":\n",
    "    arg = sys.argv[1:]\n",
    "    if len(arg) != 2:\n",
    "        sys.exit(\"Input and Target path are require.\")\n",
    "    else:\n",
    "        main(arg)"
   ]
  }
 ],
 "metadata": {
  "kernelspec": {
   "display_name": "Python 3 (ipykernel)",
   "language": "python",
   "name": "python3"
  },
  "language_info": {
   "codemirror_mode": {
    "name": "ipython",
    "version": 3
   },
   "file_extension": ".py",
   "mimetype": "text/x-python",
   "name": "python",
   "nbconvert_exporter": "python",
   "pygments_lexer": "ipython3",
   "version": "3.9.7"
  }
 },
 "nbformat": 4,
 "nbformat_minor": 5
}
